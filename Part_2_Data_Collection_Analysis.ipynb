{
 "cells": [
  {
   "cell_type": "markdown",
   "id": "f4e8bb6a",
   "metadata": {},
   "source": [
    "# NFT Market Analysis Project\n",
    "## Part 2: Remaining Data Collection, Cleaning, and Analysis\n",
    "---"
   ]
  },
  {
   "cell_type": "code",
   "execution_count": 1,
   "id": "62d26806",
   "metadata": {},
   "outputs": [],
   "source": [
    "#Initial imports\n",
    "import requests\n",
    "import pandas as pd\n",
    "import numpy as np\n",
    "import datetime as dt\n",
    "import os\n",
    "from dotenv import load_dotenv\n",
    "import alpaca_trade_api as tradeapi\n",
    "import json\n",
    "import csv"
   ]
  },
  {
   "cell_type": "code",
   "execution_count": 31,
   "id": "093e8eef",
   "metadata": {},
   "outputs": [
    {
     "data": {
      "text/plain": [
       "True"
      ]
     },
     "execution_count": 31,
     "metadata": {},
     "output_type": "execute_result"
    }
   ],
   "source": [
    "#Load API keys file\n",
    "load_dotenv(\"OUR_KEYS.env\")"
   ]
  },
  {
   "cell_type": "code",
   "execution_count": 32,
   "id": "4b14d740",
   "metadata": {},
   "outputs": [
    {
     "data": {
      "text/plain": [
       "str"
      ]
     },
     "execution_count": 32,
     "metadata": {},
     "output_type": "execute_result"
    }
   ],
   "source": [
    "#Set Crypto Compare API keys for crypto data\n",
    "cryptocompare_api_key = os.getenv(\"CRYPTOCOMPARE_API_KEY\")\n",
    "type(cryptocompare_api_key)"
   ]
  },
  {
   "cell_type": "code",
   "execution_count": 33,
   "id": "972b4cb3",
   "metadata": {},
   "outputs": [
    {
     "data": {
      "text/plain": [
       "str"
      ]
     },
     "execution_count": 33,
     "metadata": {},
     "output_type": "execute_result"
    }
   ],
   "source": [
    "#Set Alpaca API keys for US stock market data\n",
    "alpaca_api_key = os.getenv(\"ALPACA_API_KEY\")\n",
    "alpaca_secret_key = os.getenv(\"ALPACA_SECRET_KEY\")\n",
    "type(alpaca_api_key)\n",
    "type(alpaca_secret_key)"
   ]
  },
  {
   "cell_type": "markdown",
   "id": "4b31ed1c",
   "metadata": {},
   "source": [
    "## Pull Alpaca data using API, save in Pandas dataframe, and clean the data"
   ]
  },
  {
   "cell_type": "code",
   "execution_count": 21,
   "id": "111a8578-cadd-4836-8023-748f46054197",
   "metadata": {},
   "outputs": [],
   "source": [
    "#Carl's code to go here"
   ]
  },
  {
   "cell_type": "code",
   "execution_count": null,
   "id": "e354248d-195b-458c-bcd2-a6a9ef0cde62",
   "metadata": {},
   "outputs": [],
   "source": [
    "#Save the dataframe with the Alpaca stock data as a csv file\n",
    "stocks_data.to_csv(path_or_buf='Output_csv_data_files/stocks_data.csv')"
   ]
  },
  {
   "cell_type": "markdown",
   "id": "a0c6f1c5",
   "metadata": {},
   "source": [
    "## Pull Cryptocompare data using API, save in Pandas dataframe, and clean the data"
   ]
  },
  {
   "cell_type": "code",
   "execution_count": 44,
   "id": "87587b1d",
   "metadata": {},
   "outputs": [],
   "source": [
    "#Carl's code to go here"
   ]
  },
  {
   "cell_type": "code",
   "execution_count": null,
   "id": "93c6b07f-f055-4922-8317-593e8549491d",
   "metadata": {},
   "outputs": [],
   "source": [
    "#Save the dataframe with the crypto data as a csv file\n",
    "crypto_data.to_csv(path_or_buf='Output_csv_data_files/crypto_data.csv')"
   ]
  },
  {
   "cell_type": "markdown",
   "id": "206c199d-fff7-43d0-96b5-1d3de3931822",
   "metadata": {},
   "source": [
    "## Import Ethereum gas price data, save in Pandas dataframe, and clean the data"
   ]
  },
  {
   "cell_type": "code",
   "execution_count": null,
   "id": "1affbdd3-da50-4522-a2bc-fb6091fdf8da",
   "metadata": {},
   "outputs": [],
   "source": [
    "#John's code to go here"
   ]
  },
  {
   "cell_type": "code",
   "execution_count": null,
   "id": "b40ac795-c627-494f-bca1-b5a5326417bb",
   "metadata": {},
   "outputs": [],
   "source": [
    "#Save the dataframe with the gas price data as a csv file\n",
    "gas_price_data.to_csv(path_or_buf='Output_csv_data_files/gas_price_data.csv')"
   ]
  },
  {
   "cell_type": "markdown",
   "id": "d3eba02f",
   "metadata": {},
   "source": [
    "## Import OpenSea csv files from Part 1"
   ]
  },
  {
   "cell_type": "code",
   "execution_count": 3,
   "id": "39be7cfc-2acf-40f3-9eb4-f3d76d48d418",
   "metadata": {},
   "outputs": [],
   "source": [
    "#Import the NFT csv files that were output from the NFT data collection code\n",
    "file_path_1 = Path(\"Output_csv_data_files/baby_ape_assets.csv\")\n",
    "baby_ape_assets = pd.read_csv(file_path_1, index_col=\"asset_id\")\n",
    "\n",
    "file_path_2 = Path(\"Output_csv_data_files/baby_ape_listings.csv\")\n",
    "baby_ape_listings = pd.read_csv(file_path_2, index_col=\"event_id\")\n",
    "\n",
    "file_path_3 = Path(\"Output_csv_data_files/baby_ape_sales.csv\")\n",
    "baby_ape_sales = pd.read_csv(file_path_3, index_col=\"event_id\")\n",
    "\n",
    "file_path_1 = Path(\"Output_csv_data_files/baby_ape_assets.csv\")\n",
    "baby_ape_assets = pd.read_csv(file_path_1, index_col=\"asset_id\")\n",
    "\n",
    "file_path_2 = Path(\"Output_csv_data_files/baby_ape_listings.csv\")\n",
    "baby_ape_listings = pd.read_csv(file_path_2, index_col=\"event_id\")\n",
    "\n",
    "file_path_3 = Path(\"Output_csv_data_files/baby_ape_sales.csv\")\n",
    "baby_ape_sales = pd.read_csv(file_path_3, index_col=\"event_id\")\n",
    "\n",
    "file_path_1 = Path(\"Output_csv_data_files/baby_ape_assets.csv\")\n",
    "baby_ape_assets = pd.read_csv(file_path_1, index_col=\"asset_id\")\n",
    "\n",
    "file_path_2 = Path(\"Output_csv_data_files/baby_ape_listings.csv\")\n",
    "baby_ape_listings = pd.read_csv(file_path_2, index_col=\"event_id\")\n",
    "\n",
    "file_path_3 = Path(\"Output_csv_data_files/baby_ape_sales.csv\")\n",
    "baby_ape_sales = pd.read_csv(file_path_3, index_col=\"event_id\")\n",
    "\n",
    "file_path_1 = Path(\"Output_csv_data_files/baby_ape_assets.csv\")\n",
    "baby_ape_assets = pd.read_csv(file_path_1, index_col=\"asset_id\")\n",
    "\n",
    "file_path_2 = Path(\"Output_csv_data_files/baby_ape_listings.csv\")\n",
    "baby_ape_listings = pd.read_csv(file_path_2, index_col=\"event_id\")\n",
    "\n",
    "file_path_3 = Path(\"Output_csv_data_files/baby_ape_sales.csv\")\n",
    "baby_ape_sales = pd.read_csv(file_path_3, index_col=\"event_id\")\n",
    "\n",
    "file_path_1 = Path(\"Output_csv_data_files/baby_ape_assets.csv\")\n",
    "baby_ape_assets = pd.read_csv(file_path_1, index_col=\"asset_id\")\n",
    "\n",
    "file_path_2 = Path(\"Output_csv_data_files/baby_ape_listings.csv\")\n",
    "baby_ape_listings = pd.read_csv(file_path_2, index_col=\"event_id\")\n",
    "\n",
    "file_path_3 = Path(\"Output_csv_data_files/baby_ape_sales.csv\")\n",
    "baby_ape_sales = pd.read_csv(file_path_3, index_col=\"event_id\")"
   ]
  },
  {
   "cell_type": "markdown",
   "id": "979e984e-8edc-4e2c-8f65-5df56976d15a",
   "metadata": {},
   "source": [
    "## Data Analysis"
   ]
  },
  {
   "cell_type": "code",
   "execution_count": null,
   "id": "5d70177b-100a-4fae-9503-145bb31cbc3c",
   "metadata": {},
   "outputs": [],
   "source": []
  }
 ],
 "metadata": {
  "kernelspec": {
   "display_name": "Python 3 (ipykernel)",
   "language": "python",
   "name": "python3"
  },
  "language_info": {
   "codemirror_mode": {
    "name": "ipython",
    "version": 3
   },
   "file_extension": ".py",
   "mimetype": "text/x-python",
   "name": "python",
   "nbconvert_exporter": "python",
   "pygments_lexer": "ipython3",
   "version": "3.8.8"
  }
 },
 "nbformat": 4,
 "nbformat_minor": 5
}
